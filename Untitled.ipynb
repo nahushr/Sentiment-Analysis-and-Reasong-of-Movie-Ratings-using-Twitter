{
 "cells": [
  {
   "cell_type": "code",
   "execution_count": null,
   "metadata": {},
   "outputs": [],
   "source": [
    "!pip install pyrebase\n",
    "!pip install VaderSentiment\n",
    "!pip install tweepy\n",
    "!pip install emoji\n",
    "!pip install textblob\n",
    "!pip install -r requirements.txt"
   ]
  },
  {
   "cell_type": "code",
   "execution_count": null,
   "metadata": {},
   "outputs": [],
   "source": [
    "!pip install numpy"
   ]
  }
 ],
 "metadata": {
  "kernelspec": {
   "display_name": "Python 3",
   "language": "python",
   "name": "python3"
  }
 },
 "nbformat": 4,
 "nbformat_minor": 2
}
